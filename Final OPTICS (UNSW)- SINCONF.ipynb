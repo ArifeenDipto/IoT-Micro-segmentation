{
 "cells": [
  {
   "cell_type": "code",
   "execution_count": 1,
   "metadata": {},
   "outputs": [],
   "source": [
    "import warnings\n",
    "warnings.filterwarnings(\"ignore\")\n",
    "from numpy.random import seed\n",
    "import tensorflow as tf\n",
    "tf.random.set_seed(0) \n",
    "tf.compat.v1.logging.set_verbosity(tf.compat.v1.logging.ERROR)\n",
    "import itertools\n",
    "from sklearn.preprocessing import MinMaxScaler\n",
    "from sklearn.metrics import confusion_matrix,accuracy_score,recall_score,precision_score,f1_score\n",
    "import matplotlib.pyplot as plt\n",
    "import numpy as np\n",
    "import pandas as pd\n",
    "from keras.layers import Input,Dropout,Dense\n",
    "from keras.models import Model, Sequential, load_model\n",
    "from keras import regularizers\n",
    "from keras.utils.data_utils import get_file\n",
    "from keras.models import model_from_json\n",
    "%matplotlib inline"
   ]
  },
  {
   "cell_type": "code",
   "execution_count": 643,
   "metadata": {},
   "outputs": [],
   "source": [
    "path = r'E:\\RGU_PhD\\SINCONF\\Dataset\\UNSW-NB15_1.csv'\n",
    "df = pd.read_csv(path)"
   ]
  },
  {
   "cell_type": "code",
   "execution_count": 644,
   "metadata": {},
   "outputs": [
    {
     "data": {
      "text/plain": [
       "(700001, 49)"
      ]
     },
     "execution_count": 644,
     "metadata": {},
     "output_type": "execute_result"
    }
   ],
   "source": [
    "df.shape"
   ]
  },
  {
   "cell_type": "code",
   "execution_count": 645,
   "metadata": {},
   "outputs": [
    {
     "data": {
      "text/html": [
       "<div>\n",
       "<style scoped>\n",
       "    .dataframe tbody tr th:only-of-type {\n",
       "        vertical-align: middle;\n",
       "    }\n",
       "\n",
       "    .dataframe tbody tr th {\n",
       "        vertical-align: top;\n",
       "    }\n",
       "\n",
       "    .dataframe thead th {\n",
       "        text-align: right;\n",
       "    }\n",
       "</style>\n",
       "<table border=\"1\" class=\"dataframe\">\n",
       "  <thead>\n",
       "    <tr style=\"text-align: right;\">\n",
       "      <th></th>\n",
       "      <th>srcip</th>\n",
       "      <th>sport</th>\n",
       "      <th>dstip</th>\n",
       "      <th>dsport</th>\n",
       "      <th>proto</th>\n",
       "      <th>state</th>\n",
       "      <th>dur</th>\n",
       "      <th>sbytes</th>\n",
       "      <th>dbytes</th>\n",
       "      <th>sttl</th>\n",
       "      <th>...</th>\n",
       "      <th>ct_ftp_cmd</th>\n",
       "      <th>ct_srv_src</th>\n",
       "      <th>ct_srv_dst</th>\n",
       "      <th>ct_dst_ltm</th>\n",
       "      <th>ct_src_ ltm</th>\n",
       "      <th>ct_src_dport_ltm</th>\n",
       "      <th>ct_dst_sport_ltm</th>\n",
       "      <th>ct_dst_src_ltm</th>\n",
       "      <th>attack_cat</th>\n",
       "      <th>Label</th>\n",
       "    </tr>\n",
       "  </thead>\n",
       "  <tbody>\n",
       "    <tr>\n",
       "      <th>258457</th>\n",
       "      <td>59.166.0.4</td>\n",
       "      <td>60654</td>\n",
       "      <td>149.171.126.4</td>\n",
       "      <td>53</td>\n",
       "      <td>udp</td>\n",
       "      <td>CON</td>\n",
       "      <td>0.001090</td>\n",
       "      <td>146</td>\n",
       "      <td>178</td>\n",
       "      <td>31</td>\n",
       "      <td>...</td>\n",
       "      <td>0</td>\n",
       "      <td>3</td>\n",
       "      <td>5</td>\n",
       "      <td>3</td>\n",
       "      <td>2</td>\n",
       "      <td>1</td>\n",
       "      <td>1</td>\n",
       "      <td>1</td>\n",
       "      <td>NaN</td>\n",
       "      <td>0</td>\n",
       "    </tr>\n",
       "    <tr>\n",
       "      <th>314088</th>\n",
       "      <td>59.166.0.5</td>\n",
       "      <td>41710</td>\n",
       "      <td>149.171.126.8</td>\n",
       "      <td>111</td>\n",
       "      <td>udp</td>\n",
       "      <td>CON</td>\n",
       "      <td>0.004445</td>\n",
       "      <td>568</td>\n",
       "      <td>312</td>\n",
       "      <td>31</td>\n",
       "      <td>...</td>\n",
       "      <td>0</td>\n",
       "      <td>11</td>\n",
       "      <td>8</td>\n",
       "      <td>5</td>\n",
       "      <td>4</td>\n",
       "      <td>1</td>\n",
       "      <td>1</td>\n",
       "      <td>3</td>\n",
       "      <td>NaN</td>\n",
       "      <td>0</td>\n",
       "    </tr>\n",
       "  </tbody>\n",
       "</table>\n",
       "<p>2 rows × 49 columns</p>\n",
       "</div>"
      ],
      "text/plain": [
       "             srcip  sport          dstip dsport proto state       dur  sbytes  \\\n",
       "258457  59.166.0.4  60654  149.171.126.4     53   udp   CON  0.001090     146   \n",
       "314088  59.166.0.5  41710  149.171.126.8    111   udp   CON  0.004445     568   \n",
       "\n",
       "        dbytes  sttl  ...  ct_ftp_cmd  ct_srv_src  ct_srv_dst ct_dst_ltm  \\\n",
       "258457     178    31  ...           0           3           5          3   \n",
       "314088     312    31  ...           0          11           8          5   \n",
       "\n",
       "        ct_src_ ltm  ct_src_dport_ltm  ct_dst_sport_ltm  ct_dst_src_ltm  \\\n",
       "258457            2                 1                 1               1   \n",
       "314088            4                 1                 1               3   \n",
       "\n",
       "        attack_cat  Label  \n",
       "258457         NaN      0  \n",
       "314088         NaN      0  \n",
       "\n",
       "[2 rows x 49 columns]"
      ]
     },
     "execution_count": 645,
     "metadata": {},
     "output_type": "execute_result"
    }
   ],
   "source": [
    "df_new = df.sample(n=1000)\n",
    "df_new.head(2)"
   ]
  },
  {
   "cell_type": "code",
   "execution_count": 646,
   "metadata": {},
   "outputs": [],
   "source": [
    "q=df_new['Label']"
   ]
  },
  {
   "cell_type": "code",
   "execution_count": 647,
   "metadata": {},
   "outputs": [
    {
     "data": {
      "text/html": [
       "<div>\n",
       "<style scoped>\n",
       "    .dataframe tbody tr th:only-of-type {\n",
       "        vertical-align: middle;\n",
       "    }\n",
       "\n",
       "    .dataframe tbody tr th {\n",
       "        vertical-align: top;\n",
       "    }\n",
       "\n",
       "    .dataframe thead th {\n",
       "        text-align: right;\n",
       "    }\n",
       "</style>\n",
       "<table border=\"1\" class=\"dataframe\">\n",
       "  <thead>\n",
       "    <tr style=\"text-align: right;\">\n",
       "      <th></th>\n",
       "      <th>srcip</th>\n",
       "      <th>sport</th>\n",
       "      <th>dstip</th>\n",
       "      <th>dsport</th>\n",
       "      <th>proto</th>\n",
       "      <th>state</th>\n",
       "      <th>dur</th>\n",
       "      <th>sbytes</th>\n",
       "      <th>dbytes</th>\n",
       "      <th>sttl</th>\n",
       "      <th>...</th>\n",
       "      <th>ct_flw_http_mthd</th>\n",
       "      <th>is_ftp_login</th>\n",
       "      <th>ct_ftp_cmd</th>\n",
       "      <th>ct_srv_src</th>\n",
       "      <th>ct_srv_dst</th>\n",
       "      <th>ct_dst_ltm</th>\n",
       "      <th>ct_src_ ltm</th>\n",
       "      <th>ct_src_dport_ltm</th>\n",
       "      <th>ct_dst_sport_ltm</th>\n",
       "      <th>ct_dst_src_ltm</th>\n",
       "    </tr>\n",
       "  </thead>\n",
       "  <tbody>\n",
       "    <tr>\n",
       "      <th>258457</th>\n",
       "      <td>59.166.0.4</td>\n",
       "      <td>60654</td>\n",
       "      <td>149.171.126.4</td>\n",
       "      <td>53</td>\n",
       "      <td>udp</td>\n",
       "      <td>CON</td>\n",
       "      <td>0.001090</td>\n",
       "      <td>146</td>\n",
       "      <td>178</td>\n",
       "      <td>31</td>\n",
       "      <td>...</td>\n",
       "      <td>0</td>\n",
       "      <td>0</td>\n",
       "      <td>0</td>\n",
       "      <td>3</td>\n",
       "      <td>5</td>\n",
       "      <td>3</td>\n",
       "      <td>2</td>\n",
       "      <td>1</td>\n",
       "      <td>1</td>\n",
       "      <td>1</td>\n",
       "    </tr>\n",
       "    <tr>\n",
       "      <th>314088</th>\n",
       "      <td>59.166.0.5</td>\n",
       "      <td>41710</td>\n",
       "      <td>149.171.126.8</td>\n",
       "      <td>111</td>\n",
       "      <td>udp</td>\n",
       "      <td>CON</td>\n",
       "      <td>0.004445</td>\n",
       "      <td>568</td>\n",
       "      <td>312</td>\n",
       "      <td>31</td>\n",
       "      <td>...</td>\n",
       "      <td>0</td>\n",
       "      <td>0</td>\n",
       "      <td>0</td>\n",
       "      <td>11</td>\n",
       "      <td>8</td>\n",
       "      <td>5</td>\n",
       "      <td>4</td>\n",
       "      <td>1</td>\n",
       "      <td>1</td>\n",
       "      <td>3</td>\n",
       "    </tr>\n",
       "  </tbody>\n",
       "</table>\n",
       "<p>2 rows × 47 columns</p>\n",
       "</div>"
      ],
      "text/plain": [
       "             srcip  sport          dstip dsport proto state       dur  sbytes  \\\n",
       "258457  59.166.0.4  60654  149.171.126.4     53   udp   CON  0.001090     146   \n",
       "314088  59.166.0.5  41710  149.171.126.8    111   udp   CON  0.004445     568   \n",
       "\n",
       "        dbytes  sttl  ...  ct_flw_http_mthd  is_ftp_login  ct_ftp_cmd  \\\n",
       "258457     178    31  ...                 0             0           0   \n",
       "314088     312    31  ...                 0             0           0   \n",
       "\n",
       "       ct_srv_src  ct_srv_dst  ct_dst_ltm  ct_src_ ltm  ct_src_dport_ltm  \\\n",
       "258457          3           5           3            2                 1   \n",
       "314088         11           8           5            4                 1   \n",
       "\n",
       "        ct_dst_sport_ltm  ct_dst_src_ltm  \n",
       "258457                 1               1  \n",
       "314088                 1               3  \n",
       "\n",
       "[2 rows x 47 columns]"
      ]
     },
     "execution_count": 647,
     "metadata": {},
     "output_type": "execute_result"
    }
   ],
   "source": [
    "df_new = df_new.drop(['attack_cat','Label'],axis=1)\n",
    "df_new.head(2)"
   ]
  },
  {
   "cell_type": "code",
   "execution_count": 648,
   "metadata": {},
   "outputs": [
    {
     "data": {
      "text/plain": [
       "Index(['srcip', 'sport', 'dstip', 'dsport', 'proto', 'state', 'service'], dtype='object')"
      ]
     },
     "execution_count": 648,
     "metadata": {},
     "output_type": "execute_result"
    }
   ],
   "source": [
    "cat_feature = df_new.select_dtypes(include=['category', object]).columns\n",
    "cat_feature"
   ]
  },
  {
   "cell_type": "code",
   "execution_count": 649,
   "metadata": {},
   "outputs": [
    {
     "data": {
      "text/html": [
       "<div>\n",
       "<style scoped>\n",
       "    .dataframe tbody tr th:only-of-type {\n",
       "        vertical-align: middle;\n",
       "    }\n",
       "\n",
       "    .dataframe tbody tr th {\n",
       "        vertical-align: top;\n",
       "    }\n",
       "\n",
       "    .dataframe thead th {\n",
       "        text-align: right;\n",
       "    }\n",
       "</style>\n",
       "<table border=\"1\" class=\"dataframe\">\n",
       "  <thead>\n",
       "    <tr style=\"text-align: right;\">\n",
       "      <th></th>\n",
       "      <th>srcip</th>\n",
       "      <th>sport</th>\n",
       "      <th>dstip</th>\n",
       "      <th>dsport</th>\n",
       "      <th>proto</th>\n",
       "      <th>state</th>\n",
       "      <th>dur</th>\n",
       "      <th>sbytes</th>\n",
       "      <th>dbytes</th>\n",
       "      <th>sttl</th>\n",
       "      <th>...</th>\n",
       "      <th>ct_flw_http_mthd</th>\n",
       "      <th>is_ftp_login</th>\n",
       "      <th>ct_ftp_cmd</th>\n",
       "      <th>ct_srv_src</th>\n",
       "      <th>ct_srv_dst</th>\n",
       "      <th>ct_dst_ltm</th>\n",
       "      <th>ct_src_ ltm</th>\n",
       "      <th>ct_src_dport_ltm</th>\n",
       "      <th>ct_dst_sport_ltm</th>\n",
       "      <th>ct_dst_src_ltm</th>\n",
       "    </tr>\n",
       "  </thead>\n",
       "  <tbody>\n",
       "    <tr>\n",
       "      <th>258457</th>\n",
       "      <td>17</td>\n",
       "      <td>838</td>\n",
       "      <td>16</td>\n",
       "      <td>302</td>\n",
       "      <td>4</td>\n",
       "      <td>0</td>\n",
       "      <td>0.001090</td>\n",
       "      <td>146</td>\n",
       "      <td>178</td>\n",
       "      <td>31</td>\n",
       "      <td>...</td>\n",
       "      <td>0</td>\n",
       "      <td>0</td>\n",
       "      <td>0</td>\n",
       "      <td>3</td>\n",
       "      <td>5</td>\n",
       "      <td>3</td>\n",
       "      <td>2</td>\n",
       "      <td>1</td>\n",
       "      <td>1</td>\n",
       "      <td>1</td>\n",
       "    </tr>\n",
       "    <tr>\n",
       "      <th>314088</th>\n",
       "      <td>18</td>\n",
       "      <td>507</td>\n",
       "      <td>20</td>\n",
       "      <td>10</td>\n",
       "      <td>4</td>\n",
       "      <td>0</td>\n",
       "      <td>0.004445</td>\n",
       "      <td>568</td>\n",
       "      <td>312</td>\n",
       "      <td>31</td>\n",
       "      <td>...</td>\n",
       "      <td>0</td>\n",
       "      <td>0</td>\n",
       "      <td>0</td>\n",
       "      <td>11</td>\n",
       "      <td>8</td>\n",
       "      <td>5</td>\n",
       "      <td>4</td>\n",
       "      <td>1</td>\n",
       "      <td>1</td>\n",
       "      <td>3</td>\n",
       "    </tr>\n",
       "    <tr>\n",
       "      <th>317408</th>\n",
       "      <td>16</td>\n",
       "      <td>429</td>\n",
       "      <td>20</td>\n",
       "      <td>179</td>\n",
       "      <td>3</td>\n",
       "      <td>1</td>\n",
       "      <td>0.018801</td>\n",
       "      <td>2854</td>\n",
       "      <td>30384</td>\n",
       "      <td>31</td>\n",
       "      <td>...</td>\n",
       "      <td>0</td>\n",
       "      <td>0</td>\n",
       "      <td>0</td>\n",
       "      <td>14</td>\n",
       "      <td>9</td>\n",
       "      <td>1</td>\n",
       "      <td>7</td>\n",
       "      <td>1</td>\n",
       "      <td>1</td>\n",
       "      <td>1</td>\n",
       "    </tr>\n",
       "  </tbody>\n",
       "</table>\n",
       "<p>3 rows × 47 columns</p>\n",
       "</div>"
      ],
      "text/plain": [
       "        srcip  sport  dstip  dsport  proto  state       dur  sbytes  dbytes  \\\n",
       "258457     17    838     16     302      4      0  0.001090     146     178   \n",
       "314088     18    507     20      10      4      0  0.004445     568     312   \n",
       "317408     16    429     20     179      3      1  0.018801    2854   30384   \n",
       "\n",
       "        sttl  ...  ct_flw_http_mthd  is_ftp_login  ct_ftp_cmd  ct_srv_src  \\\n",
       "258457    31  ...                 0             0           0           3   \n",
       "314088    31  ...                 0             0           0          11   \n",
       "317408    31  ...                 0             0           0          14   \n",
       "\n",
       "        ct_srv_dst  ct_dst_ltm  ct_src_ ltm  ct_src_dport_ltm  \\\n",
       "258457           5           3            2                 1   \n",
       "314088           8           5            4                 1   \n",
       "317408           9           1            7                 1   \n",
       "\n",
       "        ct_dst_sport_ltm  ct_dst_src_ltm  \n",
       "258457                 1               1  \n",
       "314088                 1               3  \n",
       "317408                 1               1  \n",
       "\n",
       "[3 rows x 47 columns]"
      ]
     },
     "execution_count": 649,
     "metadata": {},
     "output_type": "execute_result"
    }
   ],
   "source": [
    "from sklearn.preprocessing import LabelEncoder\n",
    "df_new[cat_feature] = df_new[cat_feature].astype(str)\n",
    "df_new[cat_feature] = df_new[cat_feature].apply(LabelEncoder().fit_transform)\n",
    "df_new.head(3)"
   ]
  },
  {
   "cell_type": "code",
   "execution_count": 650,
   "metadata": {},
   "outputs": [
    {
     "data": {
      "text/html": [
       "<div>\n",
       "<style scoped>\n",
       "    .dataframe tbody tr th:only-of-type {\n",
       "        vertical-align: middle;\n",
       "    }\n",
       "\n",
       "    .dataframe tbody tr th {\n",
       "        vertical-align: top;\n",
       "    }\n",
       "\n",
       "    .dataframe thead th {\n",
       "        text-align: right;\n",
       "    }\n",
       "</style>\n",
       "<table border=\"1\" class=\"dataframe\">\n",
       "  <thead>\n",
       "    <tr style=\"text-align: right;\">\n",
       "      <th></th>\n",
       "      <th>srcip</th>\n",
       "      <th>sport</th>\n",
       "      <th>dstip</th>\n",
       "      <th>dsport</th>\n",
       "      <th>proto</th>\n",
       "      <th>state</th>\n",
       "      <th>dur</th>\n",
       "      <th>sbytes</th>\n",
       "      <th>dbytes</th>\n",
       "      <th>sttl</th>\n",
       "      <th>...</th>\n",
       "      <th>ct_flw_http_mthd</th>\n",
       "      <th>is_ftp_login</th>\n",
       "      <th>ct_ftp_cmd</th>\n",
       "      <th>ct_srv_src</th>\n",
       "      <th>ct_srv_dst</th>\n",
       "      <th>ct_dst_ltm</th>\n",
       "      <th>ct_src_ ltm</th>\n",
       "      <th>ct_src_dport_ltm</th>\n",
       "      <th>ct_dst_sport_ltm</th>\n",
       "      <th>ct_dst_src_ltm</th>\n",
       "    </tr>\n",
       "  </thead>\n",
       "  <tbody>\n",
       "    <tr>\n",
       "      <th>258457</th>\n",
       "      <td>17</td>\n",
       "      <td>838</td>\n",
       "      <td>16</td>\n",
       "      <td>302</td>\n",
       "      <td>4</td>\n",
       "      <td>0</td>\n",
       "      <td>0.001090</td>\n",
       "      <td>146</td>\n",
       "      <td>178</td>\n",
       "      <td>31</td>\n",
       "      <td>...</td>\n",
       "      <td>0</td>\n",
       "      <td>0</td>\n",
       "      <td>0</td>\n",
       "      <td>3</td>\n",
       "      <td>5</td>\n",
       "      <td>3</td>\n",
       "      <td>2</td>\n",
       "      <td>1</td>\n",
       "      <td>1</td>\n",
       "      <td>1</td>\n",
       "    </tr>\n",
       "    <tr>\n",
       "      <th>314088</th>\n",
       "      <td>18</td>\n",
       "      <td>507</td>\n",
       "      <td>20</td>\n",
       "      <td>10</td>\n",
       "      <td>4</td>\n",
       "      <td>0</td>\n",
       "      <td>0.004445</td>\n",
       "      <td>568</td>\n",
       "      <td>312</td>\n",
       "      <td>31</td>\n",
       "      <td>...</td>\n",
       "      <td>0</td>\n",
       "      <td>0</td>\n",
       "      <td>0</td>\n",
       "      <td>11</td>\n",
       "      <td>8</td>\n",
       "      <td>5</td>\n",
       "      <td>4</td>\n",
       "      <td>1</td>\n",
       "      <td>1</td>\n",
       "      <td>3</td>\n",
       "    </tr>\n",
       "    <tr>\n",
       "      <th>317408</th>\n",
       "      <td>16</td>\n",
       "      <td>429</td>\n",
       "      <td>20</td>\n",
       "      <td>179</td>\n",
       "      <td>3</td>\n",
       "      <td>1</td>\n",
       "      <td>0.018801</td>\n",
       "      <td>2854</td>\n",
       "      <td>30384</td>\n",
       "      <td>31</td>\n",
       "      <td>...</td>\n",
       "      <td>0</td>\n",
       "      <td>0</td>\n",
       "      <td>0</td>\n",
       "      <td>14</td>\n",
       "      <td>9</td>\n",
       "      <td>1</td>\n",
       "      <td>7</td>\n",
       "      <td>1</td>\n",
       "      <td>1</td>\n",
       "      <td>1</td>\n",
       "    </tr>\n",
       "  </tbody>\n",
       "</table>\n",
       "<p>3 rows × 47 columns</p>\n",
       "</div>"
      ],
      "text/plain": [
       "        srcip  sport  dstip  dsport  proto  state       dur  sbytes  dbytes  \\\n",
       "258457     17    838     16     302      4      0  0.001090     146     178   \n",
       "314088     18    507     20      10      4      0  0.004445     568     312   \n",
       "317408     16    429     20     179      3      1  0.018801    2854   30384   \n",
       "\n",
       "        sttl  ...  ct_flw_http_mthd  is_ftp_login  ct_ftp_cmd  ct_srv_src  \\\n",
       "258457    31  ...                 0             0           0           3   \n",
       "314088    31  ...                 0             0           0          11   \n",
       "317408    31  ...                 0             0           0          14   \n",
       "\n",
       "        ct_srv_dst  ct_dst_ltm  ct_src_ ltm  ct_src_dport_ltm  \\\n",
       "258457           5           3            2                 1   \n",
       "314088           8           5            4                 1   \n",
       "317408           9           1            7                 1   \n",
       "\n",
       "        ct_dst_sport_ltm  ct_dst_src_ltm  \n",
       "258457                 1               1  \n",
       "314088                 1               3  \n",
       "317408                 1               1  \n",
       "\n",
       "[3 rows x 47 columns]"
      ]
     },
     "execution_count": 650,
     "metadata": {},
     "output_type": "execute_result"
    }
   ],
   "source": [
    "df_new = df_new.replace([np.inf, -np.inf], np.nan).dropna()\n",
    "df_new.head(3)"
   ]
  },
  {
   "cell_type": "code",
   "execution_count": 651,
   "metadata": {},
   "outputs": [],
   "source": [
    "df_corr = df_new.corr()"
   ]
  },
  {
   "cell_type": "code",
   "execution_count": 652,
   "metadata": {},
   "outputs": [],
   "source": [
    "# import seaborn as sns\n",
    "# plt.figure(figsize=(30,20))\n",
    "# sns.heatmap(df_corr, annot=True, cmap=plt.cm.viridis)\n",
    "# plt.savefig('corr_mat.png')\n",
    "# plt.show()"
   ]
  },
  {
   "cell_type": "code",
   "execution_count": 653,
   "metadata": {},
   "outputs": [],
   "source": [
    "high_corr_var=np.where(df_corr>0.95)\n",
    "# high_corr_var"
   ]
  },
  {
   "cell_type": "code",
   "execution_count": 654,
   "metadata": {},
   "outputs": [],
   "source": [
    "high_corr_var=[(df_corr.columns[x],df_corr.columns[y]) for x,y in zip(*high_corr_var) if x!=y and x<y]"
   ]
  },
  {
   "cell_type": "code",
   "execution_count": 655,
   "metadata": {},
   "outputs": [
    {
     "data": {
      "text/plain": [
       "[('dbytes', 'dloss'),\n",
       " ('dbytes', 'Dpkts'),\n",
       " ('dloss', 'Dpkts'),\n",
       " ('Spkts', 'Dpkts'),\n",
       " ('swin', 'dwin'),\n",
       " ('Stime', 'Ltime'),\n",
       " ('tcprtt', 'synack'),\n",
       " ('tcprtt', 'ackdat')]"
      ]
     },
     "execution_count": 655,
     "metadata": {},
     "output_type": "execute_result"
    }
   ],
   "source": [
    "high_corr_var"
   ]
  },
  {
   "cell_type": "code",
   "execution_count": 656,
   "metadata": {},
   "outputs": [
    {
     "data": {
      "image/png": "[encoded data removed]",
      "text/plain": [
       "<Figure size 432x288 with 2 Axes>"
      ]
     },
     "metadata": {
      "needs_background": "light"
     },
     "output_type": "display_data"
    },
    {
     "data": {
      "image/png": "[encoded data removed]",
      "text/plain": [
       "<Figure size 432x288 with 2 Axes>"
      ]
     },
     "metadata": {
      "needs_background": "light"
     },
     "output_type": "display_data"
    },
    {
     "data": {
      "image/png": "[encoded data removed]",
      "text/plain": [
       "<Figure size 432x288 with 2 Axes>"
      ]
     },
     "metadata": {
      "needs_background": "light"
     },
     "output_type": "display_data"
    },
    {
     "data": {
      "image/png": "[encoded data removed]",
      "text/plain": [
       "<Figure size 432x288 with 2 Axes>"
      ]
     },
     "metadata": {
      "needs_background": "light"
     },
     "output_type": "display_data"
    },
    {
     "data": {
      "image/png": "[encoded data removed]",
      "text/plain": [
       "<Figure size 432x288 with 2 Axes>"
      ]
     },
     "metadata": {
      "needs_background": "light"
     },
     "output_type": "display_data"
    },
    {
     "data": {
      "image/png": "[encoded data removed]",
      "text/plain": [
       "<Figure size 432x288 with 2 Axes>"
      ]
     },
     "metadata": {
      "needs_background": "light"
     },
     "output_type": "display_data"
    },
    {
     "data": {
      "image/png": "[encoded data removed]",
      "text/plain": [
       "<Figure size 432x288 with 2 Axes>"
      ]
     },
     "metadata": {
      "needs_background": "light"
     },
     "output_type": "display_data"
    }
   ],
   "source": [
    "sns.heatmap(df_new[['dbytes','dloss','Dpkts']].corr(), annot=True, cmap=plt.cm.viridis)\n",
    "plt.show()\n",
    "sns.heatmap(df_new[['dloss','Dpkts']].corr(), annot=True, cmap=plt.cm.viridis)\n",
    "plt.show()\n",
    "sns.heatmap(df_new[['Spkts','Dpkts']].corr(), annot=True, cmap=plt.cm.viridis)\n",
    "plt.show()\n",
    "\n",
    "sns.heatmap(df_new[['swin','dwin']].corr(), annot=True, cmap=plt.cm.viridis)\n",
    "plt.show()\n",
    "sns.heatmap(df_new[['Stime','Ltime']].corr(), annot=True, cmap=plt.cm.viridis)\n",
    "plt.show()\n",
    "sns.heatmap(df_new[['tcprtt','synack']].corr(), annot=True, cmap=plt.cm.viridis)\n",
    "plt.show()\n",
    "sns.heatmap(df_new[['tcprtt','ackdat']].corr(), annot=True, cmap=plt.cm.viridis)\n",
    "plt.show()\n",
    "\n"
   ]
  },
  {
   "cell_type": "code",
   "execution_count": null,
   "metadata": {},
   "outputs": [],
   "source": []
  },
  {
   "cell_type": "code",
   "execution_count": null,
   "metadata": {},
   "outputs": [],
   "source": []
  },
  {
   "cell_type": "code",
   "execution_count": 657,
   "metadata": {},
   "outputs": [],
   "source": [
    "df_new = df_new.drop(['swin','Stime' ],axis=1)"
   ]
  },
  {
   "cell_type": "code",
   "execution_count": 658,
   "metadata": {},
   "outputs": [
    {
     "data": {
      "text/html": [
       "<div>\n",
       "<style scoped>\n",
       "    .dataframe tbody tr th:only-of-type {\n",
       "        vertical-align: middle;\n",
       "    }\n",
       "\n",
       "    .dataframe tbody tr th {\n",
       "        vertical-align: top;\n",
       "    }\n",
       "\n",
       "    .dataframe thead th {\n",
       "        text-align: right;\n",
       "    }\n",
       "</style>\n",
       "<table border=\"1\" class=\"dataframe\">\n",
       "  <thead>\n",
       "    <tr style=\"text-align: right;\">\n",
       "      <th></th>\n",
       "      <th>srcip</th>\n",
       "      <th>sport</th>\n",
       "      <th>dstip</th>\n",
       "      <th>dsport</th>\n",
       "      <th>proto</th>\n",
       "      <th>state</th>\n",
       "      <th>dur</th>\n",
       "      <th>sbytes</th>\n",
       "      <th>dbytes</th>\n",
       "      <th>sttl</th>\n",
       "      <th>...</th>\n",
       "      <th>ct_flw_http_mthd</th>\n",
       "      <th>is_ftp_login</th>\n",
       "      <th>ct_ftp_cmd</th>\n",
       "      <th>ct_srv_src</th>\n",
       "      <th>ct_srv_dst</th>\n",
       "      <th>ct_dst_ltm</th>\n",
       "      <th>ct_src_ ltm</th>\n",
       "      <th>ct_src_dport_ltm</th>\n",
       "      <th>ct_dst_sport_ltm</th>\n",
       "      <th>ct_dst_src_ltm</th>\n",
       "    </tr>\n",
       "  </thead>\n",
       "  <tbody>\n",
       "    <tr>\n",
       "      <th>258457</th>\n",
       "      <td>17</td>\n",
       "      <td>838</td>\n",
       "      <td>16</td>\n",
       "      <td>302</td>\n",
       "      <td>4</td>\n",
       "      <td>0</td>\n",
       "      <td>0.001090</td>\n",
       "      <td>146</td>\n",
       "      <td>178</td>\n",
       "      <td>31</td>\n",
       "      <td>...</td>\n",
       "      <td>0</td>\n",
       "      <td>0</td>\n",
       "      <td>0</td>\n",
       "      <td>3</td>\n",
       "      <td>5</td>\n",
       "      <td>3</td>\n",
       "      <td>2</td>\n",
       "      <td>1</td>\n",
       "      <td>1</td>\n",
       "      <td>1</td>\n",
       "    </tr>\n",
       "    <tr>\n",
       "      <th>314088</th>\n",
       "      <td>18</td>\n",
       "      <td>507</td>\n",
       "      <td>20</td>\n",
       "      <td>10</td>\n",
       "      <td>4</td>\n",
       "      <td>0</td>\n",
       "      <td>0.004445</td>\n",
       "      <td>568</td>\n",
       "      <td>312</td>\n",
       "      <td>31</td>\n",
       "      <td>...</td>\n",
       "      <td>0</td>\n",
       "      <td>0</td>\n",
       "      <td>0</td>\n",
       "      <td>11</td>\n",
       "      <td>8</td>\n",
       "      <td>5</td>\n",
       "      <td>4</td>\n",
       "      <td>1</td>\n",
       "      <td>1</td>\n",
       "      <td>3</td>\n",
       "    </tr>\n",
       "  </tbody>\n",
       "</table>\n",
       "<p>2 rows × 45 columns</p>\n",
       "</div>"
      ],
      "text/plain": [
       "        srcip  sport  dstip  dsport  proto  state       dur  sbytes  dbytes  \\\n",
       "258457     17    838     16     302      4      0  0.001090     146     178   \n",
       "314088     18    507     20      10      4      0  0.004445     568     312   \n",
       "\n",
       "        sttl  ...  ct_flw_http_mthd  is_ftp_login  ct_ftp_cmd  ct_srv_src  \\\n",
       "258457    31  ...                 0             0           0           3   \n",
       "314088    31  ...                 0             0           0          11   \n",
       "\n",
       "        ct_srv_dst  ct_dst_ltm  ct_src_ ltm  ct_src_dport_ltm  \\\n",
       "258457           5           3            2                 1   \n",
       "314088           8           5            4                 1   \n",
       "\n",
       "        ct_dst_sport_ltm  ct_dst_src_ltm  \n",
       "258457                 1               1  \n",
       "314088                 1               3  \n",
       "\n",
       "[2 rows x 45 columns]"
      ]
     },
     "execution_count": 658,
     "metadata": {},
     "output_type": "execute_result"
    }
   ],
   "source": [
    "df_new.head(2)"
   ]
  },
  {
   "cell_type": "code",
   "execution_count": 659,
   "metadata": {},
   "outputs": [],
   "source": [
    "# Lab = df_new['Label']"
   ]
  },
  {
   "cell_type": "code",
   "execution_count": 660,
   "metadata": {},
   "outputs": [],
   "source": [
    "# WLab = df_new.drop('Label', axis=1)"
   ]
  },
  {
   "cell_type": "code",
   "execution_count": 661,
   "metadata": {},
   "outputs": [],
   "source": [
    "from sklearn.preprocessing import StandardScaler\n",
    "x=df_new.values\n",
    "x = StandardScaler().fit_transform(x)"
   ]
  },
  {
   "cell_type": "code",
   "execution_count": 662,
   "metadata": {},
   "outputs": [
    {
     "data": {
      "text/plain": [
       "Text(0, 0.5, 'cumulative explained variance')"
      ]
     },
     "execution_count": 662,
     "metadata": {},
     "output_type": "execute_result"
    },
    {
     "data": {
      "image/png": "[encoded data removed]",
      "text/plain": [
       "<Figure size 432x288 with 1 Axes>"
      ]
     },
     "metadata": {
      "needs_background": "light"
     },
     "output_type": "display_data"
    }
   ],
   "source": [
    "from sklearn.decomposition import PCA\n",
    "import numpy as np\n",
    "pca = PCA().fit(x)\n",
    "plt.grid()\n",
    "plt.plot(np.cumsum(pca.explained_variance_ratio_))\n",
    "plt.xlabel('number of components')\n",
    "plt.ylabel('cumulative explained variance')"
   ]
  },
  {
   "cell_type": "code",
   "execution_count": 663,
   "metadata": {},
   "outputs": [],
   "source": [
    "pca = PCA(n_components=30)\n",
    "principalComponents = pca.fit_transform(x)\n",
    "principalDf = pd.DataFrame(data = principalComponents\n",
    "             , columns = ['principal component 1', 'principal component 2','principal component 3', 'principal component 4','principal component 5', 'principal component 6','principal component 7', 'principal component 8','principal component 9', 'principal component 10','principal component 11', 'principal component 12','principal component 13', 'principal component 14','principal component 15', 'principal component 16','principal component 17', 'principal component 18','principal component 19', 'principal component 20','principal component 21', 'principal component 22','principal component 23', 'principal component 24','principal component 25','principal component 26','principal component 27', 'principal component 28','principal component 29','principal component 30'])"
   ]
  },
  {
   "cell_type": "code",
   "execution_count": 664,
   "metadata": {},
   "outputs": [],
   "source": [
    "# pca = PCA(n_components=20)\n",
    "# principalComponents = pca.fit_transform(x)\n",
    "# principalDf = pd.DataFrame(data = principalComponents\n",
    "#              , columns = ['principal component 1', 'principal component 2','principal component 3', 'principal component 4','principal component 5', 'principal component 6','principal component 7', 'principal component 8','principal component 9', 'principal component 10','principal component 11', 'principal component 12','principal component 13', 'principal component 14','principal component 15', 'principal component 16','principal component 17', 'principal component 18','principal component 19', 'principal component 20'])"
   ]
  },
  {
   "cell_type": "code",
   "execution_count": 665,
   "metadata": {},
   "outputs": [
    {
     "data": {
      "text/html": [
       "<div>\n",
       "<style scoped>\n",
       "    .dataframe tbody tr th:only-of-type {\n",
       "        vertical-align: middle;\n",
       "    }\n",
       "\n",
       "    .dataframe tbody tr th {\n",
       "        vertical-align: top;\n",
       "    }\n",
       "\n",
       "    .dataframe thead th {\n",
       "        text-align: right;\n",
       "    }\n",
       "</style>\n",
       "<table border=\"1\" class=\"dataframe\">\n",
       "  <thead>\n",
       "    <tr style=\"text-align: right;\">\n",
       "      <th></th>\n",
       "      <th>principal component 1</th>\n",
       "      <th>principal component 2</th>\n",
       "      <th>principal component 3</th>\n",
       "      <th>principal component 4</th>\n",
       "      <th>principal component 5</th>\n",
       "      <th>principal component 6</th>\n",
       "      <th>principal component 7</th>\n",
       "      <th>principal component 8</th>\n",
       "      <th>principal component 9</th>\n",
       "      <th>principal component 10</th>\n",
       "      <th>...</th>\n",
       "      <th>principal component 21</th>\n",
       "      <th>principal component 22</th>\n",
       "      <th>principal component 23</th>\n",
       "      <th>principal component 24</th>\n",
       "      <th>principal component 25</th>\n",
       "      <th>principal component 26</th>\n",
       "      <th>principal component 27</th>\n",
       "      <th>principal component 28</th>\n",
       "      <th>principal component 29</th>\n",
       "      <th>principal component 30</th>\n",
       "    </tr>\n",
       "  </thead>\n",
       "  <tbody>\n",
       "    <tr>\n",
       "      <th>0</th>\n",
       "      <td>-2.660113</td>\n",
       "      <td>-1.138439</td>\n",
       "      <td>0.191990</td>\n",
       "      <td>0.327185</td>\n",
       "      <td>2.164522</td>\n",
       "      <td>-0.279790</td>\n",
       "      <td>0.600724</td>\n",
       "      <td>-0.305777</td>\n",
       "      <td>0.002279</td>\n",
       "      <td>-0.139552</td>\n",
       "      <td>...</td>\n",
       "      <td>-0.150329</td>\n",
       "      <td>0.060756</td>\n",
       "      <td>-0.184856</td>\n",
       "      <td>0.006308</td>\n",
       "      <td>0.191666</td>\n",
       "      <td>-0.085612</td>\n",
       "      <td>0.083060</td>\n",
       "      <td>0.157843</td>\n",
       "      <td>-0.060611</td>\n",
       "      <td>-0.039708</td>\n",
       "    </tr>\n",
       "    <tr>\n",
       "      <th>1</th>\n",
       "      <td>-2.126352</td>\n",
       "      <td>-1.783458</td>\n",
       "      <td>1.474159</td>\n",
       "      <td>-0.300458</td>\n",
       "      <td>1.220895</td>\n",
       "      <td>-0.389767</td>\n",
       "      <td>0.552134</td>\n",
       "      <td>-0.054348</td>\n",
       "      <td>-0.638840</td>\n",
       "      <td>-0.059460</td>\n",
       "      <td>...</td>\n",
       "      <td>0.378845</td>\n",
       "      <td>0.100081</td>\n",
       "      <td>-0.587718</td>\n",
       "      <td>-0.253214</td>\n",
       "      <td>-0.425567</td>\n",
       "      <td>-0.386281</td>\n",
       "      <td>0.158142</td>\n",
       "      <td>-0.177667</td>\n",
       "      <td>0.002315</td>\n",
       "      <td>0.134023</td>\n",
       "    </tr>\n",
       "    <tr>\n",
       "      <th>2</th>\n",
       "      <td>0.357602</td>\n",
       "      <td>-0.254270</td>\n",
       "      <td>-0.520488</td>\n",
       "      <td>-1.837661</td>\n",
       "      <td>-1.074610</td>\n",
       "      <td>0.030954</td>\n",
       "      <td>-2.181750</td>\n",
       "      <td>-0.063380</td>\n",
       "      <td>0.100298</td>\n",
       "      <td>0.177926</td>\n",
       "      <td>...</td>\n",
       "      <td>-0.211990</td>\n",
       "      <td>-0.028990</td>\n",
       "      <td>-0.553026</td>\n",
       "      <td>0.772801</td>\n",
       "      <td>0.538049</td>\n",
       "      <td>-0.371016</td>\n",
       "      <td>0.209928</td>\n",
       "      <td>0.080273</td>\n",
       "      <td>-0.321524</td>\n",
       "      <td>-0.006452</td>\n",
       "    </tr>\n",
       "  </tbody>\n",
       "</table>\n",
       "<p>3 rows × 30 columns</p>\n",
       "</div>"
      ],
      "text/plain": [
       "   principal component 1  principal component 2  principal component 3  \\\n",
       "0              -2.660113              -1.138439               0.191990   \n",
       "1              -2.126352              -1.783458               1.474159   \n",
       "2               0.357602              -0.254270              -0.520488   \n",
       "\n",
       "   principal component 4  principal component 5  principal component 6  \\\n",
       "0               0.327185               2.164522              -0.279790   \n",
       "1              -0.300458               1.220895              -0.389767   \n",
       "2              -1.837661              -1.074610               0.030954   \n",
       "\n",
       "   principal component 7  principal component 8  principal component 9  \\\n",
       "0               0.600724              -0.305777               0.002279   \n",
       "1               0.552134              -0.054348              -0.638840   \n",
       "2              -2.181750              -0.063380               0.100298   \n",
       "\n",
       "   principal component 10  ...  principal component 21  \\\n",
       "0               -0.139552  ...               -0.150329   \n",
       "1               -0.059460  ...                0.378845   \n",
       "2                0.177926  ...               -0.211990   \n",
       "\n",
       "   principal component 22  principal component 23  principal component 24  \\\n",
       "0                0.060756               -0.184856                0.006308   \n",
       "1                0.100081               -0.587718               -0.253214   \n",
       "2               -0.028990               -0.553026                0.772801   \n",
       "\n",
       "   principal component 25  principal component 26  principal component 27  \\\n",
       "0                0.191666               -0.085612                0.083060   \n",
       "1               -0.425567               -0.386281                0.158142   \n",
       "2                0.538049               -0.371016                0.209928   \n",
       "\n",
       "   principal component 28  principal component 29  principal component 30  \n",
       "0                0.157843               -0.060611               -0.039708  \n",
       "1               -0.177667                0.002315                0.134023  \n",
       "2                0.080273               -0.321524               -0.006452  \n",
       "\n",
       "[3 rows x 30 columns]"
      ]
     },
     "execution_count": 665,
     "metadata": {},
     "output_type": "execute_result"
    }
   ],
   "source": [
    "principalDf.head(3)"
   ]
  },
  {
   "cell_type": "code",
   "execution_count": 670,
   "metadata": {},
   "outputs": [],
   "source": [
    "y=principalDf.values"
   ]
  },
  {
   "cell_type": "code",
   "execution_count": 671,
   "metadata": {},
   "outputs": [],
   "source": [
    "from sklearn.cluster import OPTICS\n",
    "clustering = OPTICS(min_samples=2,max_eps=np.inf,metric='chebyshev',cluster_method='xi').fit(y)"
   ]
  },
  {
   "cell_type": "code",
   "execution_count": 672,
   "metadata": {},
   "outputs": [],
   "source": [
    "labels=clustering.labels_\n"
   ]
  },
  {
   "cell_type": "code",
   "execution_count": 674,
   "metadata": {},
   "outputs": [
    {
     "data": {
      "text/plain": [
       "178"
      ]
     },
     "execution_count": 674,
     "metadata": {},
     "output_type": "execute_result"
    }
   ],
   "source": [
    "no_clusters = len(np.unique(labels))\n",
    "no_clusters"
   ]
  },
  {
   "cell_type": "code",
   "execution_count": 675,
   "metadata": {},
   "outputs": [
    {
     "data": {
      "text/plain": [
       "525"
      ]
     },
     "execution_count": 675,
     "metadata": {},
     "output_type": "execute_result"
    }
   ],
   "source": [
    "no_noise = np.sum(np.array(labels) == -1, axis=0)\n",
    "no_noise"
   ]
  },
  {
   "cell_type": "code",
   "execution_count": 676,
   "metadata": {},
   "outputs": [
    {
     "data": {
      "text/plain": [
       "<matplotlib.collections.PathCollection at 0x297a968e710>"
      ]
     },
     "execution_count": 676,
     "metadata": {},
     "output_type": "execute_result"
    },
    {
     "data": {
      "image/png": "[encoded data removed]",
      "text/plain": [
       "<Figure size 432x288 with 1 Axes>"
      ]
     },
     "metadata": {
      "needs_background": "light"
     },
     "output_type": "display_data"
    }
   ],
   "source": [
    "plt.scatter(y[:,0],y[:,1], c = labels, cmap='rainbow')#c = labels"
   ]
  },
  {
   "cell_type": "code",
   "execution_count": 677,
   "metadata": {},
   "outputs": [
    {
     "data": {
      "text/plain": [
       "array([  0, 219, 250, 575, 594], dtype=int64)"
      ]
     },
     "execution_count": 677,
     "metadata": {},
     "output_type": "execute_result"
    }
   ],
   "source": [
    "index_cluster_0=np.where(labels==0)[0]\n",
    "index_cluster_0"
   ]
  },
  {
   "cell_type": "code",
   "execution_count": 678,
   "metadata": {},
   "outputs": [
    {
     "data": {
      "text/plain": [
       "array([146, 169, 439, 458, 544], dtype=int64)"
      ]
     },
     "execution_count": 678,
     "metadata": {},
     "output_type": "execute_result"
    }
   ],
   "source": [
    "index_cluster_1=np.where(labels==1)[0]\n",
    "index_cluster_1"
   ]
  },
  {
   "cell_type": "code",
   "execution_count": 679,
   "metadata": {},
   "outputs": [
    {
     "data": {
      "text/plain": [
       "array([469, 944], dtype=int64)"
      ]
     },
     "execution_count": 679,
     "metadata": {},
     "output_type": "execute_result"
    }
   ],
   "source": [
    "index_cluster_2=np.where(labels==2)[0]\n",
    "index_cluster_2"
   ]
  },
  {
   "cell_type": "code",
   "execution_count": 680,
   "metadata": {},
   "outputs": [
    {
     "data": {
      "text/plain": [
       "array([ 33, 336, 352, 461, 879], dtype=int64)"
      ]
     },
     "execution_count": 680,
     "metadata": {},
     "output_type": "execute_result"
    }
   ],
   "source": [
    "index_cluster_3=np.where(labels==3)[0]\n",
    "index_cluster_3"
   ]
  },
  {
   "cell_type": "code",
   "execution_count": 681,
   "metadata": {},
   "outputs": [
    {
     "data": {
      "text/plain": [
       "array([753, 800, 905], dtype=int64)"
      ]
     },
     "execution_count": 681,
     "metadata": {},
     "output_type": "execute_result"
    }
   ],
   "source": [
    "index_cluster_4=np.where(labels==4)[0]\n",
    "index_cluster_4"
   ]
  },
  {
   "cell_type": "code",
   "execution_count": 684,
   "metadata": {},
   "outputs": [],
   "source": [
    "from sklearn.metrics import homogeneity_score\n"
   ]
  },
  {
   "cell_type": "code",
   "execution_count": 685,
   "metadata": {},
   "outputs": [
    {
     "data": {
      "text/plain": [
       "0.6064152542771597"
      ]
     },
     "execution_count": 685,
     "metadata": {},
     "output_type": "execute_result"
    }
   ],
   "source": [
    "homogeneity_score(q, labels)\n"
   ]
  }
 ],
 "metadata": {
  "kernelspec": {
   "display_name": "Python 3",
   "language": "python",
   "name": "python3"
  },
  "language_info": {
   "codemirror_mode": {
    "name": "ipython",
    "version": 3
   },
   "file_extension": ".py",
   "mimetype": "text/x-python",
   "name": "python",
   "nbconvert_exporter": "python",
   "pygments_lexer": "ipython3",
   "version": "3.7.3"
  }
 },
 "nbformat": 4,
 "nbformat_minor": 2
}
